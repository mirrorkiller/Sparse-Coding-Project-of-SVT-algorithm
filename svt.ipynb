{
 "cells": [
  {
   "cell_type": "code",
<<<<<<< HEAD
<<<<<<< HEAD
   "execution_count": 1,
=======
   "execution_count": 5,
>>>>>>> origin/master
=======
   "execution_count": 5,
>>>>>>> parent of a8d9247... Revert "Solve-Netflix-problem-using-SVT-in-Python"
   "metadata": {
    "collapsed": true
   },
   "outputs": [],
   "source": [
    "import numpy as np\n",
    "import time\n",
    "import math\n",
    "import random\n",
    "from numpy import linalg as la\n",
    "from sparsesvd import sparsesvd\n",
    "from scipy.sparse.linalg import norm\n",
    "import scipy.sparse as ss\n",
    "import scipy.io\n",
    "import random\n",
    "from __future__ import division\n",
    "import matplotlib.pyplot as plt\n",
    "import pandas as pd\n",
    "import itertools\n",
    "% matplotlib inline"
   ]
  },
  {
   "cell_type": "markdown",
   "metadata": {},
   "source": [
    "## 1. SVT Algorithm\n",
    "**The referenced paper is 'A Singular Value Thresholding Algorithm for Matrix Completion'.** [It can be acccessed here](https://arxiv.org/pdf/0810.3286.pdf)"
   ]
  },
  {
   "cell_type": "code",
<<<<<<< HEAD
<<<<<<< HEAD
   "execution_count": 2,
=======
   "execution_count": 39,
>>>>>>> origin/master
=======
   "execution_count": 39,
>>>>>>> parent of a8d9247... Revert "Solve-Netflix-problem-using-SVT-in-Python"
   "metadata": {
    "collapsed": false
   },
   "outputs": [
    {
     "name": "stdout",
     "output_type": "stream",
     "text": [
<<<<<<< HEAD
<<<<<<< HEAD
      "calculating time: 11.1472523687\n"
=======
      "calculating time: 11.064450689\n"
>>>>>>> origin/master
=======
      "calculating time: 11.064450689\n"
>>>>>>> parent of a8d9247... Revert "Solve-Netflix-problem-using-SVT-in-Python"
     ]
    }
   ],
   "source": [
    "\"\"\"\n",
    " This whole part is only for real number calculations. I didn't implement the complex number part.\n",
    " \n",
    " M is a random full matrix which we try to recover;\n",
    " n1,n2 are the shape of M;\n",
    " r is the rank of matrix M;\n",
    " df is the degree of freedom;\n",
    " m is number of samples;\n",
    " Omega is the sampling space;\n",
    " data is sampled data in space Omega;\n",
    " P_Omega_M is the sampled matrix;\n",
    " tau is the threshold; \n",
    " delta is the learning rate;\n",
    " maxiter is the number of iteration;\n",
    " tol is tolerance;\n",
    " incre is the increment of number of singular values needed to calculate in each iteration.\n",
    " \n",
    "\"\"\"\n",
    "\n",
    "# parameter initialized\n",
    "n1, n2, r = 150, 300, 10\n",
    "M = np.random.random((n1,r)).dot(np.random.random((r,n2)))\n",
    "df = r*(n1+n2-r);\n",
    "oversampling = 5; \n",
    "m = min(5*df,round(.99*n1*n2)); \n",
    "p  = m/(n1*n2);\n",
    "ind = random.sample(range(n1*n2),m)\n",
    "Omega = np.unravel_index(ind, (n1,n2))\n",
    "\n",
    "data = M[Omega]\n",
    "\n",
    "tau = 5*math.sqrt(n1*n2); \n",
    "delta = 2\n",
    "maxiter = 400\n",
    "tol = 1e-4\n",
    "incre = 5\n",
    "\n",
    "\"\"\"\n",
    "SVT\n",
    "\"\"\"\n",
    "start = time.clock()\n",
    "\n",
    "b = data\n",
    "\n",
    "r = 0\n",
    "P_Omega_M = ss.csr_matrix((b,Omega),shape = (n1,n2))\n",
    "\n",
    "normProjM = norm(P_Omega_M)\n",
    "\n",
    "k0 = np.ceil(tau / (delta*normProjM))\n",
    "\n",
    "Y = k0*delta*P_Omega_M\n",
    "rmse = []\n",
    "\n",
    "for k in xrange(maxiter):\n",
    "    s = r + 1\n",
    "    while True:\n",
    "        u1,s1,v1 = sparsesvd(ss.csc_matrix(Y),s)\n",
    "        if s1[s-1] <= tau : break\n",
    "        s = min(s+incre,n1,n2)\n",
    "        if s == min(n1,n2): break\n",
    "    \n",
    "    r = np.sum(s1>tau)\n",
    "    U = u1.T[:,:r]\n",
    "    V = v1[:r,:]\n",
    "    S = s1[:r]-tau\n",
    "    x = (U*S).dot(V)\n",
    "    x_omega = ss.csr_matrix((x[Omega],Omega),shape = (n1,n2))\n",
    "\n",
    "    if norm(x_omega-P_Omega_M)/norm(P_Omega_M) < tol:\n",
    "        break\n",
    "    \n",
    "    Y += delta*(P_Omega_M-x_omega)\n",
    "    diff = ss.csr_matrix(M-x)\n",
    "    rmse.append(norm(x_omega-P_Omega_M) / np.sqrt(n1*n2))\n",
    "    \n",
    "print 'calculating time: ' + str(time.clock() - start)"
   ]
  },
  {
   "cell_type": "code",
<<<<<<< HEAD
<<<<<<< HEAD
   "execution_count": 4,
=======
   "execution_count": 40,
>>>>>>> origin/master
=======
   "execution_count": 40,
>>>>>>> parent of a8d9247... Revert "Solve-Netflix-problem-using-SVT-in-Python"
   "metadata": {
    "collapsed": false
   },
   "outputs": [
    {
     "name": "stdout",
     "output_type": "stream",
     "text": [
      "Recovered Matrix: \n",
<<<<<<< HEAD
<<<<<<< HEAD
      "[[ 2.92283395  2.54587788  2.43136995 ...,  1.70100384  1.84195995\n",
      "   2.46859782]\n",
      " [ 3.48968077  3.51451699  3.61659493 ...,  2.56222522  2.32216369\n",
      "   3.77198963]\n",
      " [ 3.89643418  3.45308802  3.46196214 ...,  2.53907123  1.92436594\n",
      "   3.24939923]\n",
      " ..., \n",
      " [ 4.74555033  4.08172953  4.19617731 ...,  3.11460279  2.5197309\n",
      "   4.33473839]\n",
      " [ 3.66261358  3.57596312  3.32223253 ...,  2.79892374  1.88404667\n",
      "   3.24240366]\n",
      " [ 2.83420311  2.482026    2.69398112 ...,  2.3937524   1.49000715\n",
      "   3.24628487]]\n"
=======
=======
>>>>>>> parent of a8d9247... Revert "Solve-Netflix-problem-using-SVT-in-Python"
      "[[ 1.84598944  2.22018495  1.80488844 ...,  1.68098766  1.34929648\n",
      "   1.59433957]\n",
      " [ 3.04465804  2.55213424  2.7994804  ...,  2.53702159  2.18639682\n",
      "   2.60485496]\n",
      " [ 1.61613218  1.93823203  1.85818971 ...,  1.67309895  1.34052468\n",
      "   1.99417094]\n",
      " ..., \n",
      " [ 2.68279256  3.00957937  2.39583406 ...,  2.40753651  2.10131462\n",
      "   2.27463793]\n",
      " [ 2.69988613  2.68160897  1.85806416 ...,  2.15513444  1.74793951\n",
      "   2.03410787]\n",
      " [ 2.32267426  2.74202211  2.37279821 ...,  2.3073474   1.92578905\n",
      "   2.34731163]]\n"
<<<<<<< HEAD
>>>>>>> origin/master
=======
>>>>>>> parent of a8d9247... Revert "Solve-Netflix-problem-using-SVT-in-Python"
     ]
    }
   ],
   "source": [
    "print 'Recovered Matrix: '\n",
    "print x"
   ]
  },
  {
   "cell_type": "code",
<<<<<<< HEAD
<<<<<<< HEAD
   "execution_count": 5,
=======
   "execution_count": 41,
>>>>>>> origin/master
=======
   "execution_count": 41,
>>>>>>> parent of a8d9247... Revert "Solve-Netflix-problem-using-SVT-in-Python"
   "metadata": {
    "collapsed": false
   },
   "outputs": [
    {
     "name": "stdout",
     "output_type": "stream",
     "text": [
      "Original Matrix: \n",
<<<<<<< HEAD
<<<<<<< HEAD
      "[[ 2.92543182  2.54345996  2.43349025 ...,  1.70094027  1.84279879\n",
      "   2.46529717]\n",
      " [ 3.48581453  3.51660976  3.61785844 ...,  2.56476618  2.32689434\n",
      "   3.77708131]\n",
      " [ 3.89924414  3.45274708  3.46876607 ...,  2.54328404  1.92351243\n",
      "   3.24453421]\n",
      " ..., \n",
      " [ 4.7427364   4.08071     4.19742535 ...,  3.11315037  2.51916715\n",
      "   4.34023438]\n",
      " [ 3.65937706  3.57383699  3.32079608 ...,  2.79534171  1.88446531\n",
      "   3.24693634]\n",
      " [ 2.83873616  2.48671662  2.69448349 ...,  2.39158177  1.48236818\n",
      "   3.2498139 ]]\n"
=======
=======
>>>>>>> parent of a8d9247... Revert "Solve-Netflix-problem-using-SVT-in-Python"
      "[[ 1.84763529  2.21720744  1.80348665 ...,  1.68348426  1.35019458\n",
      "   1.59188152]\n",
      " [ 3.04840044  2.5506883   2.80124422 ...,  2.53885284  2.18442622\n",
      "   2.61111386]\n",
      " [ 1.61444113  1.93903955  1.85782457 ...,  1.67344315  1.34115763\n",
      "   1.99399529]\n",
      " ..., \n",
      " [ 2.68292241  3.00993856  2.39744936 ...,  2.40609259  2.10217232\n",
      "   2.28082636]\n",
      " [ 2.69779062  2.67949721  1.86196726 ...,  2.15368181  1.74716243\n",
      "   2.03107388]\n",
      " [ 2.32126178  2.74470204  2.37224133 ...,  2.30313654  1.92478534\n",
      "   2.35022848]]\n"
<<<<<<< HEAD
>>>>>>> origin/master
=======
>>>>>>> parent of a8d9247... Revert "Solve-Netflix-problem-using-SVT-in-Python"
     ]
    }
   ],
   "source": [
    "print 'Original Matrix: '\n",
    "print M"
   ]
  },
  {
   "cell_type": "code",
<<<<<<< HEAD
<<<<<<< HEAD
   "execution_count": 6,
=======
   "execution_count": 42,
>>>>>>> origin/master
=======
   "execution_count": 42,
>>>>>>> parent of a8d9247... Revert "Solve-Netflix-problem-using-SVT-in-Python"
   "metadata": {
    "collapsed": false,
    "scrolled": true
   },
   "outputs": [
    {
     "data": {
      "text/plain": [
<<<<<<< HEAD
<<<<<<< HEAD
       "[<matplotlib.lines.Line2D at 0xa2bec50>]"
      ]
     },
     "execution_count": 6,
=======
=======
>>>>>>> parent of a8d9247... Revert "Solve-Netflix-problem-using-SVT-in-Python"
       "[<matplotlib.lines.Line2D at 0x10d73d30>]"
      ]
     },
     "execution_count": 42,
<<<<<<< HEAD
>>>>>>> origin/master
=======
>>>>>>> parent of a8d9247... Revert "Solve-Netflix-problem-using-SVT-in-Python"
     "metadata": {},
     "output_type": "execute_result"
    },
    {
     "data": {
<<<<<<< HEAD
<<<<<<< HEAD
      "image/png": "iVBORw0KGgoAAAANSUhEUgAAAiIAAAF5CAYAAACiFUGDAAAABHNCSVQICAgIfAhkiAAAAAlwSFlz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\n",
      "text/plain": [
       "<matplotlib.figure.Figure at 0xa2beb70>"
=======
      "image/png": "iVBORw0KGgoAAAANSUhEUgAAAiIAAAF5CAYAAACiFUGDAAAABHNCSVQICAgIfAhkiAAAAAlwSFlz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\nrkJggg==\n",
      "text/plain": [
       "<matplotlib.figure.Figure at 0xac4e080>"
>>>>>>> origin/master
=======
      "image/png": "iVBORw0KGgoAAAANSUhEUgAAAiIAAAF5CAYAAACiFUGDAAAABHNCSVQICAgIfAhkiAAAAAlwSFlz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\nrkJggg==\n",
      "text/plain": [
       "<matplotlib.figure.Figure at 0xac4e080>"
>>>>>>> parent of a8d9247... Revert "Solve-Netflix-problem-using-SVT-in-Python"
      ]
     },
     "metadata": {},
     "output_type": "display_data"
    }
   ],
   "source": [
    "x_coordinate = range(len(rmse))\n",
    "plt.ylim(0,0.5)\n",
    "plt.xlabel('Number of iterations')\n",
    "plt.ylabel('RMSE')\n",
    "plt.plot(x_coordinate,rmse,'-')"
   ]
  },
  {
   "cell_type": "markdown",
   "metadata": {},
   "source": [
    "## Summary: Three ways to do SVD in python  \n",
    "**The first is for normal matrix SVD using numpy.linalg;\n",
    "The second and the third is specially for sparse SVD.   \n",
    "There are 2 differences between the second and the third:   \n",
    "1) the second's singular values are in increasing order while the third's are in descending order.  \n",
    "2) The left singular vector of the seocnd is the transpose of the third one.**"
   ]
  },
  {
   "cell_type": "code",
   "execution_count": 45,
   "metadata": {
    "collapsed": false,
    "scrolled": true
   },
   "outputs": [
    {
     "name": "stdout",
     "output_type": "stream",
     "text": [
      "(150L, 150L) (150L,) (300L, 300L)\n"
     ]
    },
    {
     "data": {
      "text/plain": [
       "matrix([[  1.42501751e+01,   1.51663149e-14,  -1.43129821e-14, ...,\n",
       "           1.11406264e+01,   3.23330912e-15,  -1.79481094e+01],\n",
       "        [  6.36886317e-14,  -5.88838748e+01,   2.36050014e-15, ...,\n",
       "           7.56511574e+00,  -6.54798604e-14,   7.79347375e-15],\n",
       "        [ -2.83728904e+01,   7.63808385e-14,  -3.53673644e-14, ...,\n",
       "          -7.63042399e+00,  -1.53626084e+01,   2.95319404e+01],\n",
       "        ..., \n",
       "        [ -1.00336550e-13,   2.79243372e+01,   1.95472423e+01, ...,\n",
       "          -2.04945159e-15,  -7.12964941e-14,   2.80066460e-14],\n",
       "        [  6.52392064e+01,  -4.70715735e-14,  -1.88089682e+01, ...,\n",
       "           1.59887465e-15,   3.69293850e+00,   6.94302428e-15],\n",
       "        [ -1.63059703e+01,  -8.67471368e-15,   5.18816562e-14, ...,\n",
       "          -4.44877500e-14,  -3.21336114e-14,   5.74453511e-14]])"
      ]
     },
     "execution_count": 45,
     "metadata": {},
     "output_type": "execute_result"
    }
   ],
   "source": [
    "# 1st\n",
    "U,s,V = la.svd(Y.todense())\n",
    "print U.shape,s.shape,V.shape\n",
    "S = np.zeros(Y.shape)\n",
    "index = s.shape[0]\n",
    "S[:index, :index] = np.diag(s)\n",
    "np.dot(U,np.dot(S,V))"
   ]
  },
  {
   "cell_type": "code",
   "execution_count": 51,
   "metadata": {
    "collapsed": false
   },
   "outputs": [
    {
     "name": "stdout",
     "output_type": "stream",
     "text": [
      "(150L, 6L) (6L,) (6L, 300L)\n",
      "[ 1077.93575303  1078.94084481  1079.86244283  1081.00099544  1082.43767384\n",
      "  1602.39579244]\n"
     ]
    },
    {
     "data": {
      "text/plain": [
       "array([[  0.93475894,  -1.69656889,  20.39140556, ...,   1.99293127,\n",
       "         -0.9501656 ,   5.13083661],\n",
       "       [ 24.46087109,   0.08695084,  12.47402609, ...,   4.02753676,\n",
       "         -1.77296115,   5.06209865],\n",
       "       [ -4.16327272,   0.79898135,   0.13229599, ...,   3.26257497,\n",
       "          1.91033556,   9.63002219],\n",
       "       ..., \n",
       "       [ 18.38672915,  18.07049233,   1.31570108, ...,  10.56529213,\n",
       "         11.27349825,   2.58618828],\n",
       "       [ 24.47471489,   9.99896372,  -0.96920197, ...,   3.63494168,\n",
       "          0.78564538,   2.57794705],\n",
       "       [  6.44554284,   3.01631162,   4.47305393, ...,  13.38238602,\n",
       "         12.3795926 ,   9.54896807]])"
      ]
     },
     "execution_count": 51,
     "metadata": {},
     "output_type": "execute_result"
    }
   ],
   "source": [
    "# 2nd\n",
    "u1,s1,v1 = ss.linalg.svds(Y,6)\n",
    "print u1.shape,s1.shape,v1.shape\n",
    "print s1\n",
    "(u1*s1).dot(v1)"
   ]
  },
  {
   "cell_type": "code",
   "execution_count": 52,
   "metadata": {
    "collapsed": false,
    "scrolled": true
   },
   "outputs": [
    {
     "name": "stdout",
     "output_type": "stream",
     "text": [
      "(6L, 150L) (6L,) (6L, 300L)\n",
      "[ 1602.39579244  1082.43767384  1081.00099544  1079.86244283  1078.94084481\n",
      "  1077.93575303]\n"
     ]
    },
    {
     "data": {
      "text/plain": [
       "array([[  0.93475894,  -1.69656889,  20.39140556, ...,   1.99293127,\n",
       "         -0.9501656 ,   5.13083661],\n",
       "       [ 24.46087109,   0.08695084,  12.47402609, ...,   4.02753676,\n",
       "         -1.77296115,   5.06209865],\n",
       "       [ -4.16327272,   0.79898135,   0.13229599, ...,   3.26257497,\n",
       "          1.91033556,   9.63002219],\n",
       "       ..., \n",
       "       [ 18.38672915,  18.07049233,   1.31570108, ...,  10.56529213,\n",
       "         11.27349825,   2.58618828],\n",
       "       [ 24.47471489,   9.99896372,  -0.96920197, ...,   3.63494168,\n",
       "          0.78564538,   2.57794705],\n",
       "       [  6.44554284,   3.01631162,   4.47305393, ...,  13.38238602,\n",
       "         12.3795926 ,   9.54896807]])"
      ]
     },
     "execution_count": 52,
     "metadata": {},
     "output_type": "execute_result"
    }
   ],
   "source": [
    "# 3rd\n",
    "ut, s, vt = sparsesvd(ss.csc_matrix(Y),6)\n",
    "print ut.shape,s.shape,vt.shape\n",
    "print s\n",
    "(ut.T*s).dot(vt)"
   ]
  },
  {
   "cell_type": "markdown",
   "metadata": {},
   "source": [
    "## Solving the Netflix Problem using SVT above"
   ]
  },
  {
   "cell_type": "markdown",
   "metadata": {},
   "source": [
    "**I have done some preprocessing to the Netfilx files(e.g. mapping the users id ranging from [6,2649429] to their actual id number [1-480189]) which takes about an hour just for running the program.  \n",
    "Then I wrote the rate, rates' row index and rates' col index into the following 'rate.csv', 'row.csv', 'col.csv' files And I directly read from these files to save time and write thme into a sparse matrix M_original.  \n",
    "The rows of M_original are the users' actual id numbers ranging from [1,480189] while the columns are the id of 17770 movies. The data in the matrix is the rates. \n",
    "**"
   ]
  },
  {
   "cell_type": "code",
<<<<<<< HEAD
<<<<<<< HEAD
   "execution_count": 3,
=======
   "execution_count": 151,
>>>>>>> origin/master
=======
   "execution_count": 151,
>>>>>>> parent of a8d9247... Revert "Solve-Netflix-problem-using-SVT-in-Python"
   "metadata": {
    "collapsed": false
   },
   "outputs": [
    {
     "data": {
      "text/plain": [
<<<<<<< HEAD
<<<<<<< HEAD
       "125.623319606266"
      ]
     },
     "execution_count": 3,
=======
=======
>>>>>>> parent of a8d9247... Revert "Solve-Netflix-problem-using-SVT-in-Python"
       "124.23084189168003"
      ]
     },
     "execution_count": 151,
<<<<<<< HEAD
>>>>>>> origin/master
=======
>>>>>>> parent of a8d9247... Revert "Solve-Netflix-problem-using-SVT-in-Python"
     "metadata": {},
     "output_type": "execute_result"
    }
   ],
   "source": [
    "start = time.clock()\n",
    "\n",
    "row = pd.read_csv('G:/nf_prize_dataset/download/row.csv',header = None).iloc[:,1]\n",
    "col = pd.read_csv('G:/nf_prize_dataset/download/col.csv',header = None).iloc[:,1]\n",
    "rate = pd.read_csv('G:/nf_prize_dataset/download/rate.csv',header = None).iloc[:,1]\n",
    "\n",
    "M_original = ss.csr_matrix((rate,(row,col)),shape = (480189,17770))\n",
    "\n",
    "time.clock() - start"
   ]
  },
  {
   "cell_type": "code",
<<<<<<< HEAD
<<<<<<< HEAD
   "execution_count": 11,
   "metadata": {
    "collapsed": true
   },
   "outputs": [],
   "source": [
    "def SVT(M1,iter_num):\n",
    "    \n",
    "    n1,n2 = M1.shape\n",
    "    total_num = len(M1.nonzero()[0])\n",
    "    proportion = 1.0\n",
    "    idx = random.sample(range(total_num),int(total_num*proportion))\n",
    "    Omega = (M1.nonzero()[0][idx],M1.nonzero()[1][idx])\n",
    "    p = 0.5\n",
    "    tau=20000\n",
    "    delta = 2\n",
    "    maxiter = iter_num\n",
    "    tol = 0.001\n",
    "    incre = 5\n",
    "\n",
    "    # SVT\n",
    "    r = 0\n",
    "    b = M1[Omega]\n",
    "    #P_Omega_M = ss.csr_matrix((np.ravel(M1[Omega]),Omega),shape = (n1,n2))\n",
    "    P_Omega_M = ss.csr_matrix((np.ravel(b),Omega),shape = (n1,n2))\n",
    "    #P_Omega_M = M1[Omega]\n",
    "    normProjM = norm(P_Omega_M)\n",
    "    k0 = np.ceil(tau / (delta*normProjM))\n",
    "    Y = k0*delta*P_Omega_M\n",
    "    rmse = []\n",
    "\n",
    "    for k in xrange(maxiter):\n",
    "        #print str(k+1) + ' iterative.'\n",
    "        s = r + 1\n",
    "        while True:\n",
    "            u1,s1,v1 = sparsesvd(ss.csc_matrix(Y),s)\n",
    "            if s1[s-1] <= tau : break\n",
    "            s = min(s+incre,n1,n2)\n",
    "            if s == min(n1,n2): break\n",
    "\n",
    "        r = np.sum(s1>tau)\n",
    "        U = u1.T[:,:r]\n",
    "        V = v1[:r,:]\n",
    "        S = s1[:r]-tau\n",
    "        x = (U*S).dot(V)\n",
    "        x_omega = ss.csr_matrix((x[Omega],Omega),shape = (n1,n2))                                      \n",
    "\n",
    "        if norm(x_omega-P_Omega_M)/norm(P_Omega_M) < tol:\n",
    "            break\n",
    "\n",
    "        diff = P_Omega_M-x_omega\n",
    "        Y += delta*diff\n",
    "        #rmse.append(norm(diff)/np.sqrt(n1*n2))\n",
    "        rmse.append(la.norm(M1[M1.nonzero()]-x[M1.nonzero()]) / np.sqrt(len(x[M1.nonzero()])))\n",
    "\n",
    "    return rmse"
   ]
  },
  {
   "cell_type": "markdown",
   "metadata": {},
   "source": [
    "### 1. # of iteration increases (# of entries fixed = 1000) \n",
    "### 50,100,150,200 iterations are picked"
   ]
  },
  {
   "cell_type": "code",
   "execution_count": 16,
=======
   "execution_count": 172,
>>>>>>> origin/master
=======
   "execution_count": 172,
>>>>>>> parent of a8d9247... Revert "Solve-Netflix-problem-using-SVT-in-Python"
   "metadata": {
    "collapsed": false
   },
   "outputs": [
    {
     "data": {
      "text/plain": [
<<<<<<< HEAD
<<<<<<< HEAD
       "100.847874095507"
      ]
     },
     "execution_count": 16,
=======
=======
>>>>>>> parent of a8d9247... Revert "Solve-Netflix-problem-using-SVT-in-Python"
       "(30000, 17770)"
      ]
     },
     "execution_count": 172,
<<<<<<< HEAD
>>>>>>> origin/master
=======
>>>>>>> parent of a8d9247... Revert "Solve-Netflix-problem-using-SVT-in-Python"
     "metadata": {},
     "output_type": "execute_result"
    }
   ],
   "source": [
<<<<<<< HEAD
<<<<<<< HEAD
    "start = time.clock()\n",
    "num_of_entries = 1000\n",
    "M1 = M_original[:num_of_entries]\n",
    "iter_list = range(50,250,50)\n",
    "rmse1 = []\n",
    "for item in iter_list:\n",
    "    rmse1.append(SVT(M1,item)[-1])\n",
    "time.clock() - start"
=======
    "# I took the first 30000 entries of M_original \n",
    "M1 = M_original[:30000]\n",
    "M1.shape"
>>>>>>> origin/master
=======
    "# I took the first 30000 entries of M_original \n",
    "M1 = M_original[:30000]\n",
    "M1.shape"
>>>>>>> parent of a8d9247... Revert "Solve-Netflix-problem-using-SVT-in-Python"
   ]
  },
  {
   "cell_type": "code",
<<<<<<< HEAD
<<<<<<< HEAD
   "execution_count": 20,
   "metadata": {
    "collapsed": false
   },
   "outputs": [
    {
     "data": {
      "text/plain": [
       "<matplotlib.text.Text at 0x108c3320>"
      ]
     },
     "execution_count": 20,
     "metadata": {},
     "output_type": "execute_result"
    },
    {
     "data": {
      "image/png": "iVBORw0KGgoAAAANSUhEUgAAAiIAAAF5CAYAAACiFUGDAAAABHNCSVQICAgIfAhkiAAAAAlwSFlz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\nQqMgIiIiIqFREBEREZHQKIiIiIhIaP4fXUq3DTI3Ak4AAAAASUVORK5CYII=\n",
      "text/plain": [
       "<matplotlib.figure.Figure at 0xcb63978>"
      ]
     },
     "metadata": {},
     "output_type": "display_data"
    }
   ],
   "source": [
    "plt.plot(iter_list,rmse1,'*-')\n",
    "plt.xlabel('Number of iterations')\n",
    "plt.ylabel('RMSE')"
   ]
  },
  {
   "cell_type": "markdown",
   "metadata": {
    "collapsed": false
   },
   "source": [
    "### 2. # of entries increases (# of iteration fixed = 50)  \n",
    "### the first 1000,5000,10000, 20000 entries are picked"
=======
=======
>>>>>>> parent of a8d9247... Revert "Solve-Netflix-problem-using-SVT-in-Python"
   "execution_count": 174,
   "metadata": {
    "collapsed": false
   },
   "outputs": [],
   "source": [
    "n1,n2 = M1.shape\n",
    "\n",
    "total_num = len(M1.nonzero()[0])\n",
    "proportion = 1.0\n",
    "idx = random.sample(range(total_num),int(total_num*proportion))\n",
    "Omega = (M1.nonzero()[0][idx],M1.nonzero()[1][idx])\n",
    "p = 0.5\n",
    "tau=20000\n",
    "delta = 2\n",
    "maxiter = 50\n",
    "tol = 0.001\n",
    "incre = 5\n",
    "\n",
    "\"\"\"\n",
    "SVT\n",
    "\"\"\"\n",
    "start = time.clock()\n",
    "\n",
    "r = 0\n",
    "b = M1[Omega]\n",
    "#P_Omega_M = ss.csr_matrix((np.ravel(M1[Omega]),Omega),shape = (n1,n2))\n",
    "P_Omega_M = ss.csr_matrix((np.ravel(b),Omega),shape = (n1,n2))\n",
    "#P_Omega_M = M1[Omega]\n",
    "normProjM = norm(P_Omega_M)\n",
    "k0 = np.ceil(tau / (delta*normProjM))\n",
    "#k0=2.0\n",
    "#Y = ss.lil_matrix((n1,n2))\n",
    "Y = k0*delta*P_Omega_M\n",
    "rmse = []"
<<<<<<< HEAD
>>>>>>> origin/master
=======
>>>>>>> parent of a8d9247... Revert "Solve-Netflix-problem-using-SVT-in-Python"
   ]
  },
  {
   "cell_type": "code",
<<<<<<< HEAD
<<<<<<< HEAD
   "execution_count": 21,
   "metadata": {
    "collapsed": false,
    "scrolled": false
=======
   "execution_count": 170,
   "metadata": {
    "collapsed": false
>>>>>>> origin/master
=======
   "execution_count": 170,
   "metadata": {
    "collapsed": false
>>>>>>> parent of a8d9247... Revert "Solve-Netflix-problem-using-SVT-in-Python"
   },
   "outputs": [
    {
     "data": {
      "text/plain": [
<<<<<<< HEAD
<<<<<<< HEAD
       "481.6677343859876"
      ]
     },
     "execution_count": 21,
=======
=======
>>>>>>> parent of a8d9247... Revert "Solve-Netflix-problem-using-SVT-in-Python"
       "((40000, 17770), (40000, 17770), 8283673, 8283673, 8283673)"
      ]
     },
     "execution_count": 170,
<<<<<<< HEAD
>>>>>>> origin/master
=======
>>>>>>> parent of a8d9247... Revert "Solve-Netflix-problem-using-SVT-in-Python"
     "metadata": {},
     "output_type": "execute_result"
    }
   ],
   "source": [
<<<<<<< HEAD
<<<<<<< HEAD
    "start = time.clock()\n",
    "entry_list = [1000,5000,10000,20000]\n",
    "num_of_iter = 50\n",
    "rmse2 = []\n",
    "for entry in entry_list:\n",
    "    M2 = M_original[:entry]\n",
    "    rmse2.append(SVT(M2,num_of_iter)[-1])\n",
    "time.clock() - start"
=======
    "P_Omega_M.shape,Y.shape,len(Omega[0]),len(Omega[1]),len(np.ravel(M1[Omega]))"
>>>>>>> origin/master
=======
    "P_Omega_M.shape,Y.shape,len(Omega[0]),len(Omega[1]),len(np.ravel(M1[Omega]))"
>>>>>>> parent of a8d9247... Revert "Solve-Netflix-problem-using-SVT-in-Python"
   ]
  },
  {
   "cell_type": "code",
<<<<<<< HEAD
<<<<<<< HEAD
   "execution_count": 22,
   "metadata": {
    "collapsed": false
   },
   "outputs": [
    {
     "data": {
      "text/plain": [
       "<matplotlib.text.Text at 0xcb9ffd0>"
      ]
     },
     "execution_count": 22,
     "metadata": {},
     "output_type": "execute_result"
    },
    {
     "data": {
      "image/png": "iVBORw0KGgoAAAANSUhEUgAAAisAAAF5CAYAAABeAGpJAAAABHNCSVQICAgIfAhkiAAAAAlwSFlz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\n",
      "text/plain": [
       "<matplotlib.figure.Figure at 0x107625c0>"
      ]
     },
     "metadata": {},
     "output_type": "display_data"
    }
   ],
   "source": [
    "plt.plot(entry_list,rmse2,'*-')\n",
    "plt.xlabel('Number of entries')\n",
    "plt.ylabel('RMSE')"
   ]
  },
  {
   "cell_type": "code",
   "execution_count": 23,
   "metadata": {
    "collapsed": false
   },
   "outputs": [
    {
     "name": "stdout",
     "output_type": "stream",
     "text": [
      "RMSE of the first 1000 entries after 500 iterations is 0.503782833808\n"
     ]
    }
   ],
   "source": [
    "prize = SVT(M1,500)[-1]\n",
    "print 'RMSE of the first 1000 entries after 500 iterations is ' + str(prize)"
=======
=======
>>>>>>> parent of a8d9247... Revert "Solve-Netflix-problem-using-SVT-in-Python"
   "execution_count": 175,
   "metadata": {
    "collapsed": false,
    "scrolled": false
   },
   "outputs": [
    {
     "name": "stdout",
     "output_type": "stream",
     "text": [
      "0 iterative.\n",
      "1 iterative.\n",
      "2 iterative.\n",
      "3 iterative.\n",
      "4 iterative.\n",
      "5 iterative.\n",
      "6 iterative.\n",
      "7 iterative.\n",
      "8 iterative.\n",
      "9 iterative.\n",
      "10 iterative.\n",
      "11 iterative.\n",
      "12 iterative.\n",
      "13 iterative.\n",
      "14 iterative.\n",
      "15 iterative.\n",
      "16 iterative.\n",
      "17 iterative.\n",
      "18 iterative.\n",
      "19 iterative.\n",
      "20 iterative.\n",
      "21 iterative.\n",
      "22 iterative.\n",
      "23 iterative.\n",
      "24 iterative.\n",
      "25 iterative.\n",
      "26 iterative.\n",
      "27 iterative.\n",
      "28 iterative.\n",
      "29 iterative.\n",
      "30 iterative.\n",
      "31 iterative.\n",
      "32 iterative.\n",
      "33 iterative.\n",
      "34 iterative.\n",
      "35 iterative.\n",
      "36 iterative.\n",
      "37 iterative.\n",
      "38 iterative.\n",
      "39 iterative.\n",
      "40 iterative.\n",
      "41 iterative.\n",
      "42 iterative.\n",
      "43 iterative.\n",
      "44 iterative.\n",
      "45 iterative.\n",
      "46 iterative.\n",
      "47 iterative.\n",
      "48 iterative.\n",
      "49 iterative.\n"
     ]
    },
    {
     "data": {
      "text/plain": [
       "491.7972355182337"
      ]
     },
     "execution_count": 175,
     "metadata": {},
     "output_type": "execute_result"
    }
   ],
   "source": [
    "\"\"\"\n",
    "SVT\n",
    "\"\"\"\n",
    "for k in xrange(maxiter):\n",
    "    print str(k+1) + ' iterative.'\n",
    "    s = r + 1\n",
    "    while True:\n",
    "        u1,s1,v1 = sparsesvd(ss.csc_matrix(Y),s)\n",
    "        if s1[s-1] <= tau : break\n",
    "        s = min(s+incre,n1,n2)\n",
    "        if s == min(n1,n2): break\n",
    "    \n",
    "    r = np.sum(s1>tau)\n",
    "    U = u1.T[:,:r]\n",
    "    V = v1[:r,:]\n",
    "    S = s1[:r]-tau\n",
    "    x = (U*S).dot(V)\n",
    "    x_omega = ss.csr_matrix((x[Omega],Omega),shape = (n1,n2))                                      \n",
    "    \n",
    "    if norm(x_omega-P_Omega_M)/norm(P_Omega_M) < tol:\n",
    "        break\n",
    "        \n",
    "    diff = P_Omega_M-x_omega\n",
    "    Y += delta*diff\n",
    "    #rmse.append(norm(diff)/np.sqrt(n1*n2))\n",
    "    rmse.append(la.norm(M1[M1.nonzero()]-x[M1.nonzero()]) / np.sqrt(len(x[M1.nonzero()])))\n",
    "    \n",
    "time.clock() - start"
<<<<<<< HEAD
>>>>>>> origin/master
=======
>>>>>>> parent of a8d9247... Revert "Solve-Netflix-problem-using-SVT-in-Python"
   ]
  },
  {
   "cell_type": "markdown",
   "metadata": {},
   "source": [
    "### The first 30 nonzero positions in original matrix and corresponding positions in the recovered matrix"
   ]
  },
  {
   "cell_type": "code",
   "execution_count": 178,
   "metadata": {
    "collapsed": false,
    "scrolled": true
   },
   "outputs": [
    {
     "data": {
      "text/plain": [
       "array([4, 1, 4, 4, 4, 4, 2, 4, 3, 3, 3, 3, 4, 4, 4, 3, 3, 3, 4, 3, 4, 3, 3,\n",
       "       3, 5, 4, 3, 4, 4, 4], dtype=int64)"
      ]
     },
     "execution_count": 178,
     "metadata": {},
     "output_type": "execute_result"
    }
   ],
   "source": [
    "np.ravel(M1[M1.nonzero()])[:30]"
   ]
  },
  {
   "cell_type": "code",
   "execution_count": 179,
   "metadata": {
    "collapsed": false,
    "scrolled": true
   },
   "outputs": [
    {
     "data": {
      "text/plain": [
       "array([ 4.49254372,  3.41037303,  3.3753717 ,  3.67593247,  3.96947469,\n",
       "        3.11330046,  2.93233882,  3.91806753,  3.44414921,  3.17645675,\n",
       "        3.4369803 ,  2.82602535,  0.59842739,  3.10117755,  2.48876949,\n",
       "        3.47967146,  3.88680603,  2.76881792,  2.93507081,  3.17284492,\n",
       "        3.00022459,  4.07358373,  2.50363419,  3.26932372,  3.40469312,\n",
       "        3.50418383,  2.74553892,  3.50834477,  3.24846476,  4.01094857])"
      ]
     },
     "execution_count": 179,
     "metadata": {},
     "output_type": "execute_result"
    }
   ],
   "source": [
    "x[M1.nonzero()][:30]"
   ]
  },
  {
   "cell_type": "code",
   "execution_count": 112,
   "metadata": {
    "collapsed": false
   },
   "outputs": [],
   "source": [
    "haha = np.round(x[M1.nonzero()])"
   ]
  },
  {
   "cell_type": "code",
   "execution_count": 116,
   "metadata": {
    "collapsed": false
   },
   "outputs": [
    {
     "data": {
      "text/plain": [
       "0.78295943687648761"
      ]
     },
     "execution_count": 116,
     "metadata": {},
     "output_type": "execute_result"
    }
   ],
   "source": [
    "np.sum(haha == np.ravel(M1[M1.nonzero()]))/len(haha)"
   ]
  },
  {
<<<<<<< HEAD
<<<<<<< HEAD
=======
=======
>>>>>>> parent of a8d9247... Revert "Solve-Netflix-problem-using-SVT-in-Python"
   "cell_type": "markdown",
   "metadata": {},
   "source": [
    "## RMSE versus number of iterations\n",
    "**I found that with the number of iterations increases, the rmse becomes smaller. After my test of hte first 1000 entries after 500 iterations, the final rmse can reach about 0.5, which far beats the Netflix winning prize rmse 0.87.  \n",
    "However, the below figure is the rmse of the first 30000 entries after 50 iterations. So the result is not that good.**"
   ]
  },
  {
   "cell_type": "code",
   "execution_count": 160,
   "metadata": {
    "collapsed": false
   },
   "outputs": [
    {
     "data": {
      "text/plain": [
       "[<matplotlib.lines.Line2D at 0x23814da0>]"
      ]
     },
     "execution_count": 160,
     "metadata": {},
     "output_type": "execute_result"
    },
    {
     "data": {
      "image/png": "iVBORw0KGgoAAAANSUhEUgAAAgkAAAFkCAYAAACq4KjhAAAABHNCSVQICAgIfAhkiAAAAAlwSFlz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\nkkoyJEiSpJL+P4cDWXUXCs4GAAAAAElFTkSuQmCC\n",
      "text/plain": [
       "<matplotlib.figure.Figure at 0x19c5e908>"
      ]
     },
     "metadata": {},
     "output_type": "display_data"
    }
   ],
   "source": [
    "x_coordinate = range(len(rmse))\n",
    "len(x_coordinate),len(rmse)\n",
    "plt.plot(x_coordinate,rmse)"
   ]
  },
  {
<<<<<<< HEAD
>>>>>>> origin/master
=======
>>>>>>> parent of a8d9247... Revert "Solve-Netflix-problem-using-SVT-in-Python"
   "cell_type": "code",
   "execution_count": 124,
   "metadata": {
    "collapsed": false
   },
   "outputs": [
    {
     "data": {
      "text/plain": [
       "[0.51488720935406096,\n",
       " 0.51362005690728341,\n",
       " 0.51208922196564666,\n",
       " 0.51076399386771054,\n",
       " 0.50965240559823977,\n",
       " 0.50861479136851773,\n",
       " 0.507082230565296,\n",
       " 0.5058643580998945,\n",
       " 0.50479622069681851,\n",
       " 0.50378283380813227]"
      ]
     },
     "execution_count": 124,
     "metadata": {},
     "output_type": "execute_result"
    }
   ],
   "source": [
    "# the last 10 rmse of the first 1000 entries after 500 iterations\n",
    "rmse[-10:]"
   ]
  }
 ],
 "metadata": {
  "anaconda-cloud": {},
  "kernelspec": {
   "display_name": "Python [default]",
   "language": "python",
   "name": "python2"
  },
  "language_info": {
   "codemirror_mode": {
    "name": "ipython",
    "version": 2
   },
   "file_extension": ".py",
   "mimetype": "text/x-python",
   "name": "python",
   "nbconvert_exporter": "python",
   "pygments_lexer": "ipython2",
   "version": "2.7.12"
  }
 },
 "nbformat": 4,
 "nbformat_minor": 1
}
