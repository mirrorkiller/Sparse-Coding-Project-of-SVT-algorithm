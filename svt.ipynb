{
 "cells": [
  {
   "cell_type": "code",
   "execution_count": 1,
   "metadata": {
    "collapsed": true
   },
   "outputs": [],
   "source": [
    "import numpy as np\n",
    "import time\n",
    "import math\n",
    "import random\n",
    "from numpy import linalg as la\n",
    "from sparsesvd import sparsesvd\n",
    "from scipy.sparse.linalg import norm\n",
    "import scipy.sparse as ss\n",
    "import scipy.io\n",
    "import random\n",
    "from __future__ import division\n",
    "import matplotlib.pyplot as plt\n",
    "import pandas as pd\n",
    "import itertools\n",
    "% matplotlib inline"
   ]
  },
  {
   "cell_type": "markdown",
   "metadata": {},
   "source": [
    "## 1. SVT Algorithm\n",
    "**The referenced paper is 'A Singular Value Thresholding Algorithm for Matrix Completion'.** [It can be acccessed here](https://arxiv.org/pdf/0810.3286.pdf)"
   ]
  },
  {
   "cell_type": "code",
   "execution_count": 2,
   "metadata": {
    "collapsed": false
   },
   "outputs": [
    {
     "name": "stdout",
     "output_type": "stream",
     "text": [
      "calculating time: 11.1472523687\n"
     ]
    }
   ],
   "source": [
    "\"\"\"\n",
    " This whole part is only for real number calculations. I didn't implement the complex number part.\n",
    " \n",
    " M is a random full matrix which we try to recover;\n",
    " n1,n2 are the shape of M;\n",
    " r is the rank of matrix M;\n",
    " df is the degree of freedom;\n",
    " m is number of samples;\n",
    " Omega is the sampling space;\n",
    " data is sampled data in space Omega;\n",
    " P_Omega_M is the sampled matrix;\n",
    " tau is the threshold; \n",
    " delta is the learning rate;\n",
    " maxiter is the number of iteration;\n",
    " tol is tolerance;\n",
    " incre is the increment of number of singular values needed to calculate in each iteration.\n",
    " \n",
    "\"\"\"\n",
    "\n",
    "# parameter initialized\n",
    "n1, n2, r = 150, 300, 10\n",
    "M = np.random.random((n1,r)).dot(np.random.random((r,n2)))\n",
    "df = r*(n1+n2-r);\n",
    "oversampling = 5; \n",
    "m = min(5*df,round(.99*n1*n2)); \n",
    "p  = m/(n1*n2);\n",
    "ind = random.sample(range(n1*n2),m)\n",
    "Omega = np.unravel_index(ind, (n1,n2))\n",
    "\n",
    "data = M[Omega]\n",
    "\n",
    "tau = 5*math.sqrt(n1*n2); \n",
    "delta = 2\n",
    "maxiter = 400\n",
    "tol = 1e-4\n",
    "incre = 5\n",
    "\n",
    "\"\"\"\n",
    "SVT\n",
    "\"\"\"\n",
    "start = time.clock()\n",
    "\n",
    "b = data\n",
    "\n",
    "r = 0\n",
    "P_Omega_M = ss.csr_matrix((b,Omega),shape = (n1,n2))\n",
    "\n",
    "normProjM = norm(P_Omega_M)\n",
    "\n",
    "k0 = np.ceil(tau / (delta*normProjM))\n",
    "\n",
    "Y = k0*delta*P_Omega_M\n",
    "rmse = []\n",
    "\n",
    "for k in xrange(maxiter):\n",
    "    s = r + 1\n",
    "    while True:\n",
    "        u1,s1,v1 = sparsesvd(ss.csc_matrix(Y),s)\n",
    "        if s1[s-1] <= tau : break\n",
    "        s = min(s+incre,n1,n2)\n",
    "        if s == min(n1,n2): break\n",
    "    \n",
    "    r = np.sum(s1>tau)\n",
    "    U = u1.T[:,:r]\n",
    "    V = v1[:r,:]\n",
    "    S = s1[:r]-tau\n",
    "    x = (U*S).dot(V)\n",
    "    x_omega = ss.csr_matrix((x[Omega],Omega),shape = (n1,n2))\n",
    "\n",
    "    if norm(x_omega-P_Omega_M)/norm(P_Omega_M) < tol:\n",
    "        break\n",
    "    \n",
    "    Y += delta*(P_Omega_M-x_omega)\n",
    "    diff = ss.csr_matrix(M-x)\n",
    "    rmse.append(norm(x_omega-P_Omega_M) / np.sqrt(n1*n2))\n",
    "    \n",
    "print 'calculating time: ' + str(time.clock() - start)"
   ]
  },
  {
   "cell_type": "code",
   "execution_count": 4,
   "metadata": {
    "collapsed": false
   },
   "outputs": [
    {
     "name": "stdout",
     "output_type": "stream",
     "text": [
      "Recovered Matrix: \n",
      "[[ 2.92283395  2.54587788  2.43136995 ...,  1.70100384  1.84195995\n",
      "   2.46859782]\n",
      " [ 3.48968077  3.51451699  3.61659493 ...,  2.56222522  2.32216369\n",
      "   3.77198963]\n",
      " [ 3.89643418  3.45308802  3.46196214 ...,  2.53907123  1.92436594\n",
      "   3.24939923]\n",
      " ..., \n",
      " [ 4.74555033  4.08172953  4.19617731 ...,  3.11460279  2.5197309\n",
      "   4.33473839]\n",
      " [ 3.66261358  3.57596312  3.32223253 ...,  2.79892374  1.88404667\n",
      "   3.24240366]\n",
      " [ 2.83420311  2.482026    2.69398112 ...,  2.3937524   1.49000715\n",
      "   3.24628487]]\n"
     ]
    }
   ],
   "source": [
    "print 'Recovered Matrix: '\n",
    "print x"
   ]
  },
  {
   "cell_type": "code",
   "execution_count": 5,
   "metadata": {
    "collapsed": false
   },
   "outputs": [
    {
     "name": "stdout",
     "output_type": "stream",
     "text": [
      "Original Matrix: \n",
      "[[ 2.92543182  2.54345996  2.43349025 ...,  1.70094027  1.84279879\n",
      "   2.46529717]\n",
      " [ 3.48581453  3.51660976  3.61785844 ...,  2.56476618  2.32689434\n",
      "   3.77708131]\n",
      " [ 3.89924414  3.45274708  3.46876607 ...,  2.54328404  1.92351243\n",
      "   3.24453421]\n",
      " ..., \n",
      " [ 4.7427364   4.08071     4.19742535 ...,  3.11315037  2.51916715\n",
      "   4.34023438]\n",
      " [ 3.65937706  3.57383699  3.32079608 ...,  2.79534171  1.88446531\n",
      "   3.24693634]\n",
      " [ 2.83873616  2.48671662  2.69448349 ...,  2.39158177  1.48236818\n",
      "   3.2498139 ]]\n"
     ]
    }
   ],
   "source": [
    "print 'Original Matrix: '\n",
    "print M"
   ]
  },
  {
   "cell_type": "code",
   "execution_count": 6,
   "metadata": {
    "collapsed": false,
    "scrolled": true
   },
   "outputs": [
    {
     "data": {
      "text/plain": [
       "[<matplotlib.lines.Line2D at 0xa2bec50>]"
      ]
     },
     "execution_count": 6,
     "metadata": {},
     "output_type": "execute_result"
    },
    {
     "data": {
      "image/png": "[encoded data removed]",
      "text/plain": [
       "<matplotlib.figure.Figure at 0xa2beb70>"
      ]
     },
     "metadata": {},
     "output_type": "display_data"
    }
   ],
   "source": [
    "x_coordinate = range(len(rmse))\n",
    "plt.ylim(0,0.5)\n",
    "plt.xlabel('Number of iterations')\n",
    "plt.ylabel('RMSE')\n",
    "plt.plot(x_coordinate,rmse,'-')"
   ]
  },
  {
   "cell_type": "markdown",
   "metadata": {},
   "source": [
    "## Summary: Three ways to do SVD in python  \n",
    "**The first is for normal matrix SVD using numpy.linalg;\n",
    "The second and the third is specially for sparse SVD.   \n",
    "There are 2 differences between the second and the third:   \n",
    "1) the second's singular values are in increasing order while the third's are in descending order.  \n",
    "2) The left singular vector of the seocnd is the transpose of the third one.**"
   ]
  },
  {
   "cell_type": "code",
   "execution_count": 45,
   "metadata": {
    "collapsed": false,
    "scrolled": true
   },
   "outputs": [
    {
     "name": "stdout",
     "output_type": "stream",
     "text": [
      "(150L, 150L) (150L,) (300L, 300L)\n"
     ]
    },
    {
     "data": {
      "text/plain": [
       "matrix([[  1.42501751e+01,   1.51663149e-14,  -1.43129821e-14, ...,\n",
       "           1.11406264e+01,   3.23330912e-15,  -1.79481094e+01],\n",
       "        [  6.36886317e-14,  -5.88838748e+01,   2.36050014e-15, ...,\n",
       "           7.56511574e+00,  -6.54798604e-14,   7.79347375e-15],\n",
       "        [ -2.83728904e+01,   7.63808385e-14,  -3.53673644e-14, ...,\n",
       "          -7.63042399e+00,  -1.53626084e+01,   2.95319404e+01],\n",
       "        ..., \n",
       "        [ -1.00336550e-13,   2.79243372e+01,   1.95472423e+01, ...,\n",
       "          -2.04945159e-15,  -7.12964941e-14,   2.80066460e-14],\n",
       "        [  6.52392064e+01,  -4.70715735e-14,  -1.88089682e+01, ...,\n",
       "           1.59887465e-15,   3.69293850e+00,   6.94302428e-15],\n",
       "        [ -1.63059703e+01,  -8.67471368e-15,   5.18816562e-14, ...,\n",
       "          -4.44877500e-14,  -3.21336114e-14,   5.74453511e-14]])"
      ]
     },
     "execution_count": 45,
     "metadata": {},
     "output_type": "execute_result"
    }
   ],
   "source": [
    "# 1st\n",
    "U,s,V = la.svd(Y.todense())\n",
    "print U.shape,s.shape,V.shape\n",
    "S = np.zeros(Y.shape)\n",
    "index = s.shape[0]\n",
    "S[:index, :index] = np.diag(s)\n",
    "np.dot(U,np.dot(S,V))"
   ]
  },
  {
   "cell_type": "code",
   "execution_count": 51,
   "metadata": {
    "collapsed": false
   },
   "outputs": [
    {
     "name": "stdout",
     "output_type": "stream",
     "text": [
      "(150L, 6L) (6L,) (6L, 300L)\n",
      "[ 1077.93575303  1078.94084481  1079.86244283  1081.00099544  1082.43767384\n",
      "  1602.39579244]\n"
     ]
    },
    {
     "data": {
      "text/plain": [
       "array([[  0.93475894,  -1.69656889,  20.39140556, ...,   1.99293127,\n",
       "         -0.9501656 ,   5.13083661],\n",
       "       [ 24.46087109,   0.08695084,  12.47402609, ...,   4.02753676,\n",
       "         -1.77296115,   5.06209865],\n",
       "       [ -4.16327272,   0.79898135,   0.13229599, ...,   3.26257497,\n",
       "          1.91033556,   9.63002219],\n",
       "       ..., \n",
       "       [ 18.38672915,  18.07049233,   1.31570108, ...,  10.56529213,\n",
       "         11.27349825,   2.58618828],\n",
       "       [ 24.47471489,   9.99896372,  -0.96920197, ...,   3.63494168,\n",
       "          0.78564538,   2.57794705],\n",
       "       [  6.44554284,   3.01631162,   4.47305393, ...,  13.38238602,\n",
       "         12.3795926 ,   9.54896807]])"
      ]
     },
     "execution_count": 51,
     "metadata": {},
     "output_type": "execute_result"
    }
   ],
   "source": [
    "# 2nd\n",
    "u1,s1,v1 = ss.linalg.svds(Y,6)\n",
    "print u1.shape,s1.shape,v1.shape\n",
    "print s1\n",
    "(u1*s1).dot(v1)"
   ]
  },
  {
   "cell_type": "code",
   "execution_count": 52,
   "metadata": {
    "collapsed": false,
    "scrolled": true
   },
   "outputs": [
    {
     "name": "stdout",
     "output_type": "stream",
     "text": [
      "(6L, 150L) (6L,) (6L, 300L)\n",
      "[ 1602.39579244  1082.43767384  1081.00099544  1079.86244283  1078.94084481\n",
      "  1077.93575303]\n"
     ]
    },
    {
     "data": {
      "text/plain": [
       "array([[  0.93475894,  -1.69656889,  20.39140556, ...,   1.99293127,\n",
       "         -0.9501656 ,   5.13083661],\n",
       "       [ 24.46087109,   0.08695084,  12.47402609, ...,   4.02753676,\n",
       "         -1.77296115,   5.06209865],\n",
       "       [ -4.16327272,   0.79898135,   0.13229599, ...,   3.26257497,\n",
       "          1.91033556,   9.63002219],\n",
       "       ..., \n",
       "       [ 18.38672915,  18.07049233,   1.31570108, ...,  10.56529213,\n",
       "         11.27349825,   2.58618828],\n",
       "       [ 24.47471489,   9.99896372,  -0.96920197, ...,   3.63494168,\n",
       "          0.78564538,   2.57794705],\n",
       "       [  6.44554284,   3.01631162,   4.47305393, ...,  13.38238602,\n",
       "         12.3795926 ,   9.54896807]])"
      ]
     },
     "execution_count": 52,
     "metadata": {},
     "output_type": "execute_result"
    }
   ],
   "source": [
    "# 3rd\n",
    "ut, s, vt = sparsesvd(ss.csc_matrix(Y),6)\n",
    "print ut.shape,s.shape,vt.shape\n",
    "print s\n",
    "(ut.T*s).dot(vt)"
   ]
  },
  {
   "cell_type": "markdown",
   "metadata": {},
   "source": [
    "## Solving the Netflix Problem using SVT above"
   ]
  },
  {
   "cell_type": "markdown",
   "metadata": {},
   "source": [
    "**I have done some preprocessing to the Netfilx files(e.g. mapping the users id ranging from [6,2649429] to their actual id number [1-480189]) which takes about an hour just for running the program.  \n",
    "Then I wrote the rate, rates' row index and rates' col index into the following 'rate.csv', 'row.csv', 'col.csv' files And I directly read from these files to save time and write them into a sparse matrix M_original.  \n",
    "The rows of M_original are the users' actual id numbers ranging from [1,480189] while the columns are the id of 17770 movies. The data in the matrix is the rates. \n",
    "**"
   ]
  },
  {
   "cell_type": "code",
   "execution_count": 3,
   "metadata": {
    "collapsed": false
   },
   "outputs": [
    {
     "data": {
      "text/plain": [
       "125.623319606266"
      ]
     },
     "execution_count": 3,
     "metadata": {},
     "output_type": "execute_result"
    }
   ],
   "source": [
    "start = time.clock()\n",
    "\n",
    "row = pd.read_csv('G:/nf_prize_dataset/download/row.csv',header = None).iloc[:,1]\n",
    "col = pd.read_csv('G:/nf_prize_dataset/download/col.csv',header = None).iloc[:,1]\n",
    "rate = pd.read_csv('G:/nf_prize_dataset/download/rate.csv',header = None).iloc[:,1]\n",
    "\n",
    "M_original = ss.csr_matrix((rate,(row,col)),shape = (480189,17770))\n",
    "\n",
    "time.clock() - start"
   ]
  },
  {
   "cell_type": "code",
   "execution_count": 11,
   "metadata": {
    "collapsed": true
   },
   "outputs": [],
   "source": [
    "def SVT(M1,iter_num):\n",
    "    \n",
    "    n1,n2 = M1.shape\n",
    "    total_num = len(M1.nonzero()[0])\n",
    "    proportion = 1.0\n",
    "    idx = random.sample(range(total_num),int(total_num*proportion))\n",
    "    Omega = (M1.nonzero()[0][idx],M1.nonzero()[1][idx])\n",
    "    p = 0.5\n",
    "    tau=20000\n",
    "    delta = 2\n",
    "    maxiter = iter_num\n",
    "    tol = 0.001\n",
    "    incre = 5\n",
    "\n",
    "    # SVT\n",
    "    r = 0\n",
    "    b = M1[Omega]\n",
    "    #P_Omega_M = ss.csr_matrix((np.ravel(M1[Omega]),Omega),shape = (n1,n2))\n",
    "    P_Omega_M = ss.csr_matrix((np.ravel(b),Omega),shape = (n1,n2))\n",
    "    #P_Omega_M = M1[Omega]\n",
    "    normProjM = norm(P_Omega_M)\n",
    "    k0 = np.ceil(tau / (delta*normProjM))\n",
    "    Y = k0*delta*P_Omega_M\n",
    "    rmse = []\n",
    "\n",
    "    for k in xrange(maxiter):\n",
    "        #print str(k+1) + ' iterative.'\n",
    "        s = r + 1\n",
    "        while True:\n",
    "            u1,s1,v1 = sparsesvd(ss.csc_matrix(Y),s)\n",
    "            if s1[s-1] <= tau : break\n",
    "            s = min(s+incre,n1,n2)\n",
    "            if s == min(n1,n2): break\n",
    "\n",
    "        r = np.sum(s1>tau)\n",
    "        U = u1.T[:,:r]\n",
    "        V = v1[:r,:]\n",
    "        S = s1[:r]-tau\n",
    "        x = (U*S).dot(V)\n",
    "        x_omega = ss.csr_matrix((x[Omega],Omega),shape = (n1,n2))                                      \n",
    "\n",
    "        if norm(x_omega-P_Omega_M)/norm(P_Omega_M) < tol:\n",
    "            break\n",
    "\n",
    "        diff = P_Omega_M-x_omega\n",
    "        Y += delta*diff\n",
    "        #rmse.append(norm(diff)/np.sqrt(n1*n2))\n",
    "        rmse.append(la.norm(M1[M1.nonzero()]-x[M1.nonzero()]) / np.sqrt(len(x[M1.nonzero()])))\n",
    "\n",
    "    return rmse"
   ]
  },
  {
   "cell_type": "markdown",
   "metadata": {},
   "source": [
    "### 1. # of iteration increases (# of entries fixed = 1000) \n",
    "### 50,100,150,200 iterations are picked"
   ]
  },
  {
   "cell_type": "code",
   "execution_count": 16,
   "metadata": {
    "collapsed": false
   },
   "outputs": [
    {
     "data": {
      "text/plain": [
       "100.847874095507"
      ]
     },
     "execution_count": 16,
     "metadata": {},
     "output_type": "execute_result"
    }
   ],
   "source": [
    "start = time.clock()\n",
    "num_of_entries = 1000\n",
    "M1 = M_original[:num_of_entries]\n",
    "iter_list = range(50,250,50)\n",
    "rmse1 = []\n",
    "for item in iter_list:\n",
    "    rmse1.append(SVT(M1,item)[-1])\n",
    "time.clock() - start"
   ]
  },
  {
   "cell_type": "code",
   "execution_count": 20,
   "metadata": {
    "collapsed": false
   },
   "outputs": [
    {
     "data": {
      "text/plain": [
       "<matplotlib.text.Text at 0x108c3320>"
      ]
     },
     "execution_count": 20,
     "metadata": {},
     "output_type": "execute_result"
    },
    {
     "data": {
      "image/png": "[encoded data removed]",
      "text/plain": [
       "<matplotlib.figure.Figure at 0xcb63978>"
      ]
     },
     "metadata": {},
     "output_type": "display_data"
    }
   ],
   "source": [
    "plt.plot(iter_list,rmse1,'*-')\n",
    "plt.xlabel('Number of iterations')\n",
    "plt.ylabel('RMSE')"
   ]
  },
  {
   "cell_type": "markdown",
   "metadata": {
    "collapsed": false
   },
   "source": [
    "### 2. # of entries increases (# of iteration fixed = 50)  \n",
    "### the first 1000,5000,10000, 20000 entries are picked"
   ]
  },
  {
   "cell_type": "code",
   "execution_count": 21,
   "metadata": {
    "collapsed": false,
    "scrolled": false
   },
   "outputs": [
    {
     "data": {
      "text/plain": [
       "481.6677343859876"
      ]
     },
     "execution_count": 21,
     "metadata": {},
     "output_type": "execute_result"
    }
   ],
   "source": [
    "start = time.clock()\n",
    "entry_list = [1000,5000,10000,20000]\n",
    "num_of_iter = 50\n",
    "rmse2 = []\n",
    "for entry in entry_list:\n",
    "    M2 = M_original[:entry]\n",
    "    rmse2.append(SVT(M2,num_of_iter)[-1])\n",
    "time.clock() - start"
   ]
  },
  {
   "cell_type": "code",
   "execution_count": 22,
   "metadata": {
    "collapsed": false
   },
   "outputs": [
    {
     "data": {
      "text/plain": [
       "<matplotlib.text.Text at 0xcb9ffd0>"
      ]
     },
     "execution_count": 22,
     "metadata": {},
     "output_type": "execute_result"
    },
    {
     "data": {
      "image/png": "[encoded data removed]",
      "text/plain": [
       "<matplotlib.figure.Figure at 0x107625c0>"
      ]
     },
     "metadata": {},
     "output_type": "display_data"
    }
   ],
   "source": [
    "plt.plot(entry_list,rmse2,'*-')\n",
    "plt.xlabel('Number of entries')\n",
    "plt.ylabel('RMSE')"
   ]
  },
  {
   "cell_type": "code",
   "execution_count": 23,
   "metadata": {
    "collapsed": false
   },
   "outputs": [
    {
     "name": "stdout",
     "output_type": "stream",
     "text": [
      "RMSE of the first 1000 entries after 500 iterations is 0.503782833808\n"
     ]
    }
   ],
   "source": [
    "prize = SVT(M1,500)[-1]\n",
    "print 'RMSE of the first 1000 entries after 500 iterations is ' + str(prize)"
   ]
  },
  {
   "cell_type": "markdown",
   "metadata": {},
   "source": [
    "### The first 30 nonzero positions in original matrix and corresponding positions in the recovered matrix"
   ]
  },
  {
   "cell_type": "code",
   "execution_count": 178,
   "metadata": {
    "collapsed": false,
    "scrolled": true
   },
   "outputs": [
    {
     "data": {
      "text/plain": [
       "array([4, 1, 4, 4, 4, 4, 2, 4, 3, 3, 3, 3, 4, 4, 4, 3, 3, 3, 4, 3, 4, 3, 3,\n",
       "       3, 5, 4, 3, 4, 4, 4], dtype=int64)"
      ]
     },
     "execution_count": 178,
     "metadata": {},
     "output_type": "execute_result"
    }
   ],
   "source": [
    "np.ravel(M1[M1.nonzero()])[:30]"
   ]
  },
  {
   "cell_type": "code",
   "execution_count": 179,
   "metadata": {
    "collapsed": false,
    "scrolled": true
   },
   "outputs": [
    {
     "data": {
      "text/plain": [
       "array([ 4.49254372,  3.41037303,  3.3753717 ,  3.67593247,  3.96947469,\n",
       "        3.11330046,  2.93233882,  3.91806753,  3.44414921,  3.17645675,\n",
       "        3.4369803 ,  2.82602535,  0.59842739,  3.10117755,  2.48876949,\n",
       "        3.47967146,  3.88680603,  2.76881792,  2.93507081,  3.17284492,\n",
       "        3.00022459,  4.07358373,  2.50363419,  3.26932372,  3.40469312,\n",
       "        3.50418383,  2.74553892,  3.50834477,  3.24846476,  4.01094857])"
      ]
     },
     "execution_count": 179,
     "metadata": {},
     "output_type": "execute_result"
    }
   ],
   "source": [
    "x[M1.nonzero()][:30]"
   ]
  },
  {
   "cell_type": "code",
   "execution_count": 112,
   "metadata": {
    "collapsed": false
   },
   "outputs": [],
   "source": [
    "haha = np.round(x[M1.nonzero()])"
   ]
  },
  {
   "cell_type": "code",
   "execution_count": 116,
   "metadata": {
    "collapsed": false
   },
   "outputs": [
    {
     "data": {
      "text/plain": [
       "0.78295943687648761"
      ]
     },
     "execution_count": 116,
     "metadata": {},
     "output_type": "execute_result"
    }
   ],
   "source": [
    "np.sum(haha == np.ravel(M1[M1.nonzero()]))/len(haha)"
   ]
  },
  {
   "cell_type": "code",
   "execution_count": 124,
   "metadata": {
    "collapsed": false
   },
   "outputs": [
    {
     "data": {
      "text/plain": [
       "[0.51488720935406096,\n",
       " 0.51362005690728341,\n",
       " 0.51208922196564666,\n",
       " 0.51076399386771054,\n",
       " 0.50965240559823977,\n",
       " 0.50861479136851773,\n",
       " 0.507082230565296,\n",
       " 0.5058643580998945,\n",
       " 0.50479622069681851,\n",
       " 0.50378283380813227]"
      ]
     },
     "execution_count": 124,
     "metadata": {},
     "output_type": "execute_result"
    }
   ],
   "source": [
    "# the last 10 rmse of the first 1000 entries after 500 iterations\n",
    "rmse[-10:]"
   ]
  }
 ],
 "metadata": {
  "anaconda-cloud": {},
  "kernelspec": {
   "display_name": "Python [default]",
   "language": "python",
   "name": "python2"
  },
  "language_info": {
   "codemirror_mode": {
    "name": "ipython",
    "version": 2
   },
   "file_extension": ".py",
   "mimetype": "text/x-python",
   "name": "python",
   "nbconvert_exporter": "python",
   "pygments_lexer": "ipython2",
   "version": "2.7.12"
  }
 },
 "nbformat": 4,
 "nbformat_minor": 1
}
